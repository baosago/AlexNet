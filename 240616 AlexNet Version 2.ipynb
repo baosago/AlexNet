{
 "cells": [
  {
   "cell_type": "code",
   "execution_count": 1,
   "id": "5d7705a7",
   "metadata": {},
   "outputs": [],
   "source": [
    "import torch\n",
    "from PIL import Image, ImageOps\n",
    "from torchvision import transforms\n",
    "import os"
   ]
  },
  {
   "cell_type": "code",
   "execution_count": 2,
   "id": "1e37c625",
   "metadata": {},
   "outputs": [
    {
     "name": "stderr",
     "output_type": "stream",
     "text": [
      "Using cache found in /Users/baonguyen/.cache/torch/hub/pytorch_vision_v0.13.0\n",
      "/Users/baonguyen/anaconda3/lib/python3.10/site-packages/torchvision/models/_utils.py:208: UserWarning: The parameter 'pretrained' is deprecated since 0.13 and will be removed in 0.15, please use 'weights' instead.\n",
      "  warnings.warn(\n",
      "/Users/baonguyen/anaconda3/lib/python3.10/site-packages/torchvision/models/_utils.py:223: UserWarning: Arguments other than a weight enum or `None` for 'weights' are deprecated since 0.13 and will be removed in 0.15. The current behavior is equivalent to passing `weights=AlexNet_Weights.IMAGENET1K_V1`. You can also use `weights=AlexNet_Weights.DEFAULT` to get the most up-to-date weights.\n",
      "  warnings.warn(msg)\n"
     ]
    },
    {
     "data": {
      "text/plain": [
       "AlexNet(\n",
       "  (features): Sequential(\n",
       "    (0): Conv2d(3, 64, kernel_size=(11, 11), stride=(4, 4), padding=(2, 2))\n",
       "    (1): ReLU(inplace=True)\n",
       "    (2): MaxPool2d(kernel_size=3, stride=2, padding=0, dilation=1, ceil_mode=False)\n",
       "    (3): Conv2d(64, 192, kernel_size=(5, 5), stride=(1, 1), padding=(2, 2))\n",
       "    (4): ReLU(inplace=True)\n",
       "    (5): MaxPool2d(kernel_size=3, stride=2, padding=0, dilation=1, ceil_mode=False)\n",
       "    (6): Conv2d(192, 384, kernel_size=(3, 3), stride=(1, 1), padding=(1, 1))\n",
       "    (7): ReLU(inplace=True)\n",
       "    (8): Conv2d(384, 256, kernel_size=(3, 3), stride=(1, 1), padding=(1, 1))\n",
       "    (9): ReLU(inplace=True)\n",
       "    (10): Conv2d(256, 256, kernel_size=(3, 3), stride=(1, 1), padding=(1, 1))\n",
       "    (11): ReLU(inplace=True)\n",
       "    (12): MaxPool2d(kernel_size=3, stride=2, padding=0, dilation=1, ceil_mode=False)\n",
       "  )\n",
       "  (avgpool): AdaptiveAvgPool2d(output_size=(6, 6))\n",
       "  (classifier): Sequential(\n",
       "    (0): Dropout(p=0.5, inplace=False)\n",
       "    (1): Linear(in_features=9216, out_features=4096, bias=True)\n",
       "    (2): ReLU(inplace=True)\n",
       "    (3): Dropout(p=0.5, inplace=False)\n",
       "    (4): Linear(in_features=4096, out_features=4096, bias=True)\n",
       "    (5): ReLU(inplace=True)\n",
       "    (6): Linear(in_features=4096, out_features=1000, bias=True)\n",
       "  )\n",
       ")"
      ]
     },
     "execution_count": 2,
     "metadata": {},
     "output_type": "execute_result"
    }
   ],
   "source": [
    "# Load the pretrained AlexNet model\n",
    "model = torch.hub.load('pytorch/vision:v0.13.0', 'alexnet', pretrained=True)\n",
    "model.eval()"
   ]
  },
  {
   "cell_type": "code",
   "execution_count": 3,
   "id": "f8cec664",
   "metadata": {},
   "outputs": [],
   "source": [
    "# Define the preprocessing function\n",
    "preprocess = transforms.Compose([\n",
    "    transforms.Resize(256),\n",
    "    transforms.CenterCrop(224),\n",
    "    transforms.ToTensor(),\n",
    "    transforms.Normalize(mean=[0.485, 0.456, 0.406], std=[0.229, 0.224, 0.225]),\n",
    "])"
   ]
  },
  {
   "cell_type": "code",
   "execution_count": 4,
   "id": "eed4f088",
   "metadata": {},
   "outputs": [],
   "source": [
    "# Download ImageNet labels\n",
    "!wget -q https://raw.githubusercontent.com/pytorch/hub/master/imagenet_classes.txt"
   ]
  },
  {
   "cell_type": "code",
   "execution_count": 5,
   "id": "a53331bc",
   "metadata": {},
   "outputs": [],
   "source": [
    "# Read the categories\n",
    "with open(\"imagenet_classes.txt\", \"r\") as f:\n",
    "    categories = [s.strip() for s in f.readlines()]"
   ]
  },
  {
   "cell_type": "code",
   "execution_count": 6,
   "id": "675ee96d",
   "metadata": {},
   "outputs": [],
   "source": [
    "# Define the function to classify multiple images\n",
    "def classify_images(image_folder, image_names):\n",
    "    results = []\n",
    "    \n",
    "    for image_name in image_names:\n",
    "        image_path = os.path.join(image_folder, image_name)\n",
    "        try:\n",
    "            input_image = Image.open(image_path)\n",
    "            \n",
    "            # Convert grayscale images to RGB\n",
    "            if input_image.mode == 'L':\n",
    "                input_image = ImageOps.colorize(input_image, black=\"black\", white=\"white\").convert(\"RGB\")\n",
    "                \n",
    "            input_tensor = preprocess(input_image)\n",
    "            input_batch = input_tensor.unsqueeze(0)  # create a mini-batch as expected by the model\n",
    "\n",
    "            # Move the input and model to GPU for speed if available\n",
    "            if torch.cuda.is_available():\n",
    "                input_batch = input_batch.to('cuda')\n",
    "                model.to('cuda')\n",
    "            elif torch.backends.mps.is_available():\n",
    "                input_batch = input_batch.to('mps')\n",
    "                model.to('mps')\n",
    "\n",
    "            with torch.no_grad():\n",
    "                output = model(input_batch)\n",
    "\n",
    "            # Get probabilities\n",
    "            probabilities = torch.nn.functional.softmax(output[0], dim=0)\n",
    "\n",
    "            # Get top 1 category\n",
    "            top1_prob, top1_catid = torch.topk(probabilities, 1)\n",
    "            \n",
    "            # Append the recognized class and its probability to the results list\n",
    "            recognized_class = categories[top1_catid[0]]\n",
    "            probability = top1_prob[0].item()\n",
    "            results.append((image_name, recognized_class, probability))\n",
    "        except Exception as e:\n",
    "            print(f\"Error processing image {image_name}: {e}\")\n",
    "\n",
    "    return results"
   ]
  },
  {
   "cell_type": "code",
   "execution_count": 7,
   "id": "5cb541ad",
   "metadata": {},
   "outputs": [],
   "source": [
    "# Example usage\n",
    "image_folder = \"/Users/baonguyen/Documents/GitHub/240616 AlexNet/Test Dataset\"\n",
    "\n",
    "# Get a list of image names\n",
    "image_names = [img for img in os.listdir(image_folder) if img.lower().endswith(('.jpg', '.jpeg', '.png'))]\n",
    "\n",
    "image_names = image_names[:100]"
   ]
  },
  {
   "cell_type": "code",
   "execution_count": 8,
   "id": "16082247",
   "metadata": {},
   "outputs": [],
   "source": [
    "import difflib\n",
    "\n",
    "# Define the function to check similarity\n",
    "def is_similar(name1, name2, threshold=0.5):\n",
    "    similarity_ratio = difflib.SequenceMatcher(None, name1, name2).ratio()\n",
    "    return similarity_ratio >= threshold"
   ]
  },
  {
   "cell_type": "code",
   "execution_count": 9,
   "id": "a56e25d3",
   "metadata": {},
   "outputs": [
    {
     "name": "stderr",
     "output_type": "stream",
     "text": [
      "[W NNPACK.cpp:51] Could not initialize NNPACK! Reason: Unsupported hardware.\n"
     ]
    },
    {
     "name": "stdout",
     "output_type": "stream",
     "text": [
      "Image: n07615774_ice_lolly.JPEG, Recognized class: conch, Probability: 50.07%, Result: INCORRECT\n",
      "Image: n04005630_prison.JPEG, Recognized class: prison, Probability: 80.27%, Result: \n",
      "Image: n04147183_schooner.JPEG, Recognized class: flagpole, Probability: 47.12%, Result: INCORRECT\n",
      "Image: n07613480_trifle.JPEG, Recognized class: ice cream, Probability: 74.12%, Result: INCORRECT\n",
      "Image: n03777568_Model_T.JPEG, Recognized class: Model T, Probability: 99.28%, Result: \n",
      "Image: n03100240_convertible.JPEG, Recognized class: convertible, Probability: 78.50%, Result: \n",
      "Image: n02112350_keeshond.JPEG, Recognized class: keeshond, Probability: 96.63%, Result: \n",
      "Image: n03110669_cornet.JPEG, Recognized class: cornet, Probability: 99.22%, Result: \n",
      "Image: n01776313_tick.JPEG, Recognized class: tick, Probability: 90.36%, Result: INCORRECT\n",
      "Image: n03903868_pedestal.JPEG, Recognized class: pedestal, Probability: 84.70%, Result: \n",
      "Image: n02100877_Irish_setter.JPEG, Recognized class: Irish setter, Probability: 75.34%, Result: \n",
      "Image: n04428191_thresher.JPEG, Recognized class: thresher, Probability: 90.43%, Result: \n",
      "Image: n03445924_golfcart.JPEG, Recognized class: golfcart, Probability: 99.99%, Result: \n",
      "Image: n03724870_mask.JPEG, Recognized class: wig, Probability: 28.95%, Result: INCORRECT\n",
      "Image: n03710193_mailbox.JPEG, Recognized class: mailbox, Probability: 99.93%, Result: \n",
      "Image: n03874293_paddlewheel.JPEG, Recognized class: paddlewheel, Probability: 99.98%, Result: \n",
      "Image: n06794110_street_sign.JPEG, Recognized class: street sign, Probability: 59.35%, Result: \n",
      "Image: n01631663_eft.JPEG, Recognized class: eft, Probability: 93.88%, Result: INCORRECT\n",
      "Image: n07590611_hot_pot.JPEG, Recognized class: hot pot, Probability: 25.73%, Result: \n",
      "Image: n04243546_slot.JPEG, Recognized class: slot, Probability: 87.45%, Result: INCORRECT\n",
      "Image: n03709823_mailbag.JPEG, Recognized class: mailbag, Probability: 84.88%, Result: \n",
      "Image: n04317175_stethoscope.JPEG, Recognized class: stethoscope, Probability: 97.04%, Result: \n",
      "Image: n01877812_wallaby.JPEG, Recognized class: red fox, Probability: 26.33%, Result: INCORRECT\n",
      "Image: n02966687_carpenter's_kit.JPEG, Recognized class: lawn mower, Probability: 9.54%, Result: INCORRECT\n",
      "Image: n01694178_African_chameleon.JPEG, Recognized class: chiton, Probability: 29.66%, Result: INCORRECT\n",
      "Image: n03065424_coil.JPEG, Recognized class: coil, Probability: 34.39%, Result: INCORRECT\n",
      "Image: n02093754_Border_terrier.JPEG, Recognized class: Border terrier, Probability: 99.56%, Result: \n",
      "Image: n02443484_black-footed_ferret.JPEG, Recognized class: black-footed ferret, Probability: 85.92%, Result: \n",
      "Image: n02112137_chow.JPEG, Recognized class: chow, Probability: 62.66%, Result: INCORRECT\n",
      "Image: n03775071_mitten.JPEG, Recognized class: mitten, Probability: 72.64%, Result: \n",
      "Image: n02087394_Rhodesian_ridgeback.JPEG, Recognized class: dhole, Probability: 26.48%, Result: INCORRECT\n",
      "Image: n03534580_hoopskirt.JPEG, Recognized class: hoopskirt, Probability: 89.87%, Result: \n",
      "Image: n02666196_abacus.JPEG, Recognized class: trifle, Probability: 18.07%, Result: INCORRECT\n",
      "Image: n01784675_centipede.JPEG, Recognized class: centipede, Probability: 99.97%, Result: \n",
      "Image: n04525305_vending_machine.JPEG, Recognized class: vending machine, Probability: 97.96%, Result: \n",
      "Image: n04285008_sports_car.JPEG, Recognized class: sports car, Probability: 69.55%, Result: \n",
      "Image: n07745940_strawberry.JPEG, Recognized class: strawberry, Probability: 99.98%, Result: \n",
      "Image: n02104029_kuvasz.JPEG, Recognized class: kuvasz, Probability: 99.56%, Result: \n",
      "Image: n02167151_ground_beetle.JPEG, Recognized class: ground beetle, Probability: 96.39%, Result: \n",
      "Image: n07684084_French_loaf.JPEG, Recognized class: French loaf, Probability: 63.74%, Result: \n",
      "Image: n01829413_hornbill.JPEG, Recognized class: hornbill, Probability: 93.84%, Result: \n",
      "Image: n04254120_soap_dispenser.JPEG, Recognized class: soap dispenser, Probability: 62.34%, Result: \n",
      "Image: n03134739_croquet_ball.JPEG, Recognized class: croquet ball, Probability: 28.73%, Result: \n",
      "Image: n02105162_malinois.JPEG, Recognized class: malinois, Probability: 97.82%, Result: \n",
      "Image: n04235860_sleeping_bag.JPEG, Recognized class: sleeping bag, Probability: 63.92%, Result: \n",
      "Image: n03888257_parachute.JPEG, Recognized class: parachute, Probability: 56.80%, Result: \n",
      "Image: n03602883_joystick.JPEG, Recognized class: tripod, Probability: 22.00%, Result: INCORRECT\n",
      "Image: n02607072_anemone_fish.JPEG, Recognized class: anemone fish, Probability: 84.56%, Result: \n",
      "Image: n02113624_toy_poodle.JPEG, Recognized class: toy poodle, Probability: 52.99%, Result: \n",
      "Image: n02259212_leafhopper.JPEG, Recognized class: leafhopper, Probability: 40.82%, Result: \n",
      "Image: n02115913_dhole.JPEG, Recognized class: dhole, Probability: 86.28%, Result: \n",
      "Image: n01917289_brain_coral.JPEG, Recognized class: brain coral, Probability: 94.54%, Result: \n",
      "Image: n02268443_dragonfly.JPEG, Recognized class: dragonfly, Probability: 80.02%, Result: \n",
      "Image: n09399592_promontory.JPEG, Recognized class: promontory, Probability: 64.01%, Result: \n",
      "Image: n04251144_snorkel.JPEG, Recognized class: snorkel, Probability: 67.41%, Result: \n",
      "Image: n04404412_television.JPEG, Recognized class: home theater, Probability: 26.58%, Result: INCORRECT\n",
      "Image: n01514668_cock.JPEG, Recognized class: partridge, Probability: 56.86%, Result: INCORRECT\n",
      "Image: n02011460_bittern.JPEG, Recognized class: bittern, Probability: 93.44%, Result: \n",
      "Image: n04065272_recreational_vehicle.JPEG, Recognized class: recreational vehicle, Probability: 80.68%, Result: \n",
      "Image: n04479046_trench_coat.JPEG, Recognized class: trench coat, Probability: 61.36%, Result: \n",
      "Image: n03776460_mobile_home.JPEG, Recognized class: mobile home, Probability: 97.15%, Result: \n",
      "Image: n04296562_stage.JPEG, Recognized class: stage, Probability: 49.85%, Result: \n",
      "Image: n02492660_howler_monkey.JPEG, Recognized class: howler monkey, Probability: 36.81%, Result: \n",
      "Image: n07875152_potpie.JPEG, Recognized class: potpie, Probability: 98.59%, Result: \n",
      "Image: n02128757_snow_leopard.JPEG, Recognized class: snow leopard, Probability: 87.79%, Result: \n",
      "Image: n04589890_window_screen.JPEG, Recognized class: swing, Probability: 13.59%, Result: INCORRECT\n",
      "Image: n03976657_pole.JPEG, Recognized class: pole, Probability: 97.77%, Result: INCORRECT\n",
      "Image: n02396427_wild_boar.JPEG, Recognized class: bison, Probability: 47.20%, Result: INCORRECT\n",
      "Image: n04485082_tripod.JPEG, Recognized class: tripod, Probability: 42.96%, Result: \n",
      "Image: n03733131_maypole.JPEG, Recognized class: maypole, Probability: 6.44%, Result: \n",
      "Image: n04310018_steam_locomotive.JPEG, Recognized class: steam locomotive, Probability: 53.64%, Result: \n",
      "Image: n04111531_rotisserie.JPEG, Recognized class: rotisserie, Probability: 45.14%, Result: \n",
      "Image: n01984695_spiny_lobster.JPEG, Recognized class: spiny lobster, Probability: 96.79%, Result: \n",
      "Image: n04229816_ski_mask.JPEG, Recognized class: ski mask, Probability: 94.02%, Result: \n",
      "Image: n07714990_broccoli.JPEG, Recognized class: broccoli, Probability: 99.53%, Result: \n",
      "Image: n02319095_sea_urchin.JPEG, Recognized class: sea urchin, Probability: 81.75%, Result: \n",
      "Image: n02104365_schipperke.JPEG, Recognized class: French bulldog, Probability: 39.73%, Result: INCORRECT\n",
      "Image: n02174001_rhinoceros_beetle.JPEG, Recognized class: rhinoceros beetle, Probability: 81.43%, Result: \n",
      "Image: n02086910_papillon.JPEG, Recognized class: papillon, Probability: 99.82%, Result: \n",
      "Image: n02883205_bow_tie.JPEG, Recognized class: harp, Probability: 17.46%, Result: INCORRECT\n",
      "Image: n03452741_grand_piano.JPEG, Recognized class: grand piano, Probability: 99.91%, Result: \n",
      "Image: n02894605_breakwater.JPEG, Recognized class: beacon, Probability: 54.91%, Result: INCORRECT\n",
      "Image: n02981792_catamaran.JPEG, Recognized class: catamaran, Probability: 82.63%, Result: \n",
      "Image: n02500267_indri.JPEG, Recognized class: three-toed sloth, Probability: 30.80%, Result: INCORRECT\n",
      "Image: n01728572_thunder_snake.JPEG, Recognized class: thunder snake, Probability: 97.36%, Result: \n",
      "Image: n12057211_yellow_lady's_slipper.JPEG, Recognized class: yellow lady's slipper, Probability: 100.00%, Result: \n",
      "Image: n02487347_macaque.JPEG, Recognized class: macaque, Probability: 99.04%, Result: \n",
      "Image: n04487394_trombone.JPEG, Recognized class: trombone, Probability: 24.86%, Result: \n",
      "Image: n02111889_Samoyed.JPEG, Recognized class: Angora, Probability: 52.33%, Result: INCORRECT\n",
      "Image: n02124075_Egyptian_cat.JPEG, Recognized class: Egyptian cat, Probability: 92.73%, Result: \n",
      "Image: n01632777_axolotl.JPEG, Recognized class: thunder snake, Probability: 39.96%, Result: INCORRECT\n",
      "Image: n03028079_church.JPEG, Recognized class: church, Probability: 61.88%, Result: \n",
      "Image: n04311004_steel_arch_bridge.JPEG, Recognized class: steel arch bridge, Probability: 99.40%, Result: \n",
      "Image: n01530575_brambling.JPEG, Recognized class: brambling, Probability: 63.26%, Result: \n",
      "Image: n02025239_ruddy_turnstone.JPEG, Recognized class: ruddy turnstone, Probability: 99.94%, Result: \n",
      "Image: n07860988_dough.JPEG, Recognized class: wooden spoon, Probability: 17.11%, Result: INCORRECT\n",
      "Image: n07717556_butternut_squash.JPEG, Recognized class: butternut squash, Probability: 65.10%, Result: \n",
      "Image: n02965783_car_mirror.JPEG, Recognized class: car mirror, Probability: 93.94%, Result: \n",
      "Image: n04023962_punching_bag.JPEG, Recognized class: punching bag, Probability: 76.97%, Result: \n",
      "Image: n04275548_spider_web.JPEG, Recognized class: garden spider, Probability: 44.62%, Result: INCORRECT\n"
     ]
    }
   ],
   "source": [
    "# Check if there are images to process\n",
    "if not image_names:\n",
    "    print(\"No images found in the specified directory.\")\n",
    "else:\n",
    "    results = classify_images(image_folder, image_names)\n",
    "    \n",
    "    total = 0\n",
    "    correct = 0\n",
    "\n",
    "    # Print the results and compare file name with recognized class\n",
    "    for image_name, recognized_class, probability in results:\n",
    "        # Remove file extension from the image name for comparison\n",
    "        base_image_name = os.path.splitext(image_name)[0]\n",
    "        total += 1\n",
    "        \n",
    "        if is_similar(base_image_name, recognized_class, 0.5):\n",
    "            result = \"\"\n",
    "            correct += 1\n",
    "        else:\n",
    "            result = \"INCORRECT\"\n",
    "        \n",
    "        print(f\"Image: {image_name}, Recognized class: {recognized_class}, Probability: {probability*100:.2f}%, Result: {result}\")\n"
   ]
  },
  {
   "cell_type": "code",
   "execution_count": 10,
   "id": "37f68569",
   "metadata": {},
   "outputs": [
    {
     "name": "stdout",
     "output_type": "stream",
     "text": [
      "Percentage correct: 72.00%\n"
     ]
    }
   ],
   "source": [
    "print(f\"Percentage correct: {correct*100/total:.2f}%\")"
   ]
  },
  {
   "cell_type": "code",
   "execution_count": 11,
   "id": "12ed946b",
   "metadata": {},
   "outputs": [],
   "source": [
    "# Download an example image from the pytorch website\n",
    "import urllib\n",
    "url, filename = (\"https://github.com/pytorch/hub/raw/master/images/dog.jpg\", \"dog.jpg\")\n",
    "try: urllib.URLopener().retrieve(url, filename)\n",
    "except: urllib.request.urlretrieve(url, filename)"
   ]
  },
  {
   "cell_type": "code",
   "execution_count": 12,
   "id": "1357dcd3",
   "metadata": {},
   "outputs": [],
   "source": [
    "image_names = []\n",
    "image_names.append(filename)"
   ]
  },
  {
   "cell_type": "code",
   "execution_count": 13,
   "id": "88373ee3",
   "metadata": {},
   "outputs": [
    {
     "name": "stdout",
     "output_type": "stream",
     "text": [
      "Image: dog.jpg, Recognized class: Samoyed, Probability: 72.45%\n"
     ]
    }
   ],
   "source": [
    "results = classify_images(\"\", image_names)\n",
    "\n",
    "# Print the results and compare file name with recognized class\n",
    "for image_name, recognized_class, probability in results:\n",
    "    # Remove file extension from the image name for comparison\n",
    "    base_image_name = os.path.splitext(image_name)[0]\n",
    "\n",
    "    print(f\"Image: {image_name}, Recognized class: {recognized_class}, Probability: {probability*100:.2f}%\")\n"
   ]
  },
  {
   "cell_type": "code",
   "execution_count": 14,
   "id": "4b27bacc",
   "metadata": {},
   "outputs": [
    {
     "ename": "NameError",
     "evalue": "name 'train_data' is not defined",
     "output_type": "error",
     "traceback": [
      "\u001b[0;31m---------------------------------------------------------------------------\u001b[0m",
      "\u001b[0;31mNameError\u001b[0m                                 Traceback (most recent call last)",
      "Cell \u001b[0;32mIn[14], line 2\u001b[0m\n\u001b[1;32m      1\u001b[0m \u001b[38;5;28;01mimport\u001b[39;00m \u001b[38;5;21;01mmatplotlib\u001b[39;00m\u001b[38;5;21;01m.\u001b[39;00m\u001b[38;5;21;01mpyplot\u001b[39;00m \u001b[38;5;28;01mas\u001b[39;00m \u001b[38;5;21;01mplt\u001b[39;00m\n\u001b[0;32m----> 2\u001b[0m plt\u001b[38;5;241m.\u001b[39mimshow(\u001b[43mtrain_data\u001b[49m\u001b[38;5;241m.\u001b[39mdata[\u001b[38;5;241m0\u001b[39m], cmap\u001b[38;5;241m=\u001b[39m\u001b[38;5;124m'\u001b[39m\u001b[38;5;124mgray\u001b[39m\u001b[38;5;124m'\u001b[39m)\n\u001b[1;32m      3\u001b[0m plt\u001b[38;5;241m.\u001b[39mtitle(\u001b[38;5;124m'\u001b[39m\u001b[38;5;132;01m%i\u001b[39;00m\u001b[38;5;124m'\u001b[39m \u001b[38;5;241m%\u001b[39m train_data\u001b[38;5;241m.\u001b[39mtargets[\u001b[38;5;241m0\u001b[39m])\n\u001b[1;32m      4\u001b[0m plt\u001b[38;5;241m.\u001b[39mshow()\n",
      "\u001b[0;31mNameError\u001b[0m: name 'train_data' is not defined"
     ]
    }
   ],
   "source": [
    "import matplotlib.pyplot as plt\n",
    "plt.imshow(train_data.data[0], cmap='gray')\n",
    "plt.title('%i' % train_data.targets[0])\n",
    "plt.show()"
   ]
  }
 ],
 "metadata": {
  "kernelspec": {
   "display_name": "Python 3 (ipykernel)",
   "language": "python",
   "name": "python3"
  },
  "language_info": {
   "codemirror_mode": {
    "name": "ipython",
    "version": 3
   },
   "file_extension": ".py",
   "mimetype": "text/x-python",
   "name": "python",
   "nbconvert_exporter": "python",
   "pygments_lexer": "ipython3",
   "version": "3.10.9"
  }
 },
 "nbformat": 4,
 "nbformat_minor": 5
}
